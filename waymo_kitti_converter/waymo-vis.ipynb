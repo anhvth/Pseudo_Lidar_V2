{
 "cells": [
  {
   "cell_type": "code",
   "execution_count": 1,
   "metadata": {},
   "outputs": [],
   "source": [
    "%load_ext autoreload\n",
    "%autoreload 2"
   ]
  },
  {
   "cell_type": "code",
   "execution_count": 3,
   "metadata": {},
   "outputs": [],
   "source": [
    "%matplotlib inline\n",
    "import matplotlib.pyplot as plt\n",
    "import cv2\n",
    "from waymo_object import WaymoObject, show_lidar_with_depth, show_lidar_on_image, \\\n",
    "                         show_image_with_boxes, show_lidar_topview_with_boxes\n"
   ]
  },
  {
   "cell_type": "code",
   "execution_count": 5,
   "metadata": {},
   "outputs": [],
   "source": [
    "# from xvfbwrapper import Xvfb\n",
    "# vdisplay = Xvfb(width=1920, height=1080)\n",
    "# vdisplay.start()\n",
    "# from mayavi import mlab\n",
    "# mlab.init_notebook('ipy') # do not use 'x3d' backend which leads to color missing"
   ]
  },
  {
   "cell_type": "code",
   "execution_count": 6,
   "metadata": {},
   "outputs": [],
   "source": [
    "from avcv.utils import *\n",
    "from avcv.vision import *"
   ]
  },
  {
   "cell_type": "code",
   "execution_count": 7,
   "metadata": {},
   "outputs": [],
   "source": [
    "# !ls /data/waymo/training_kitti/label_0/ | wc"
   ]
  },
  {
   "cell_type": "code",
   "execution_count": 11,
   "metadata": {},
   "outputs": [],
   "source": [
    "data_root = '/Pseudo_Lidar_V2/waymo_kitti_converter/data/waymo/'\n",
    "# data_root = '/data/waymo/training_kitti/2/'\n",
    "dataset_name = 'waymo'\n",
    "image_ext='png' if dataset_name == 'kitti' else 'jpg'\n",
    "camera_name = 1\n",
    "cam_id = camera_name - 1 \n",
    "_paths = glob(f'{data_root}/label_{cam_id}/*')\n",
    "ids = [int(os.path.basename(path).split('.')[0]) for path in _paths]\n",
    "dataset = WaymoObject(\n",
    "    data_root, image_ext=image_ext, image_dir=f'image_{cam_id}', \n",
    "    label_dir=f'label_{cam_id}', camera_name=camera_name)"
   ]
  },
  {
   "cell_type": "code",
   "execution_count": 12,
   "metadata": {},
   "outputs": [],
   "source": [
    "def choose(n):\n",
    "    data_idx = np.random.choice(ids)\n",
    "    objects = dataset.get_label_objects(data_idx)\n",
    "    return data_idx if len(objects) > n else choose(n)"
   ]
  },
  {
   "cell_type": "code",
   "execution_count": null,
   "metadata": {
    "scrolled": false
   },
   "outputs": [
    {
     "data": {
      "text/plain": [
       "<Figure size 1008x504 with 0 Axes>"
      ]
     },
     "metadata": {},
     "output_type": "display_data"
    }
   ],
   "source": [
    "# data_idx = np.random.choice(ids)\n",
    "data_idx = choose(2)\n",
    "objects = dataset.get_label_objects(data_idx)\n",
    "\n",
    "\n",
    "\n",
    "# objects = dataset.get_pred_objects(data_idx)\n",
    "calib = dataset.get_calibration(data_idx)\n",
    "img = dataset.get_image(data_idx)\n",
    "img_height, img_width, _ = img.shape\n",
    "\n",
    "# 2D\n",
    "img_bbox2d, img_bbox3d = show_image_with_boxes(img, objects, calib)\n",
    "img_bbox2d = cv2.cvtColor(img_bbox2d, cv2.COLOR_BGR2RGB)\n",
    "\n",
    "# fig_bbox2d = plt.figure(figsize=(14, 7))\n",
    "# ax_bbox2d = fig_bbox2d.subplots()\n",
    "# ax_bbox2d.imshow(img_bbox2d)\n",
    "# plt.show()\n",
    "# 3D\n",
    "img_bbox3d = cv2.cvtColor(img_bbox3d, cv2.COLOR_BGR2RGB)\n",
    "\n",
    "fig_bbox3d = plt.figure(figsize=(14, 7))\n",
    "# ax_bbox3d = fig_bbox3d.subplots()\n",
    "\n",
    "# ax_bbox3d.imshow(img_bbox3d)\n",
    "# plt.show()\n",
    "show(img_bbox3d, dpi=100)"
   ]
  },
  {
   "cell_type": "markdown",
   "metadata": {},
   "source": [
    "# Lidar"
   ]
  },
  {
   "cell_type": "code",
   "execution_count": 39,
   "metadata": {},
   "outputs": [],
   "source": [
    "#--plot lidar\n",
    "# pc_velo = dataset.get_lidar(data_idx)\n",
    "\n",
    "# fig_3d = mlab.figure(bgcolor=(0, 0, 0), size=(800, 450))\n",
    "# show_lidar_with_depth(pc_velo, objects, calib, fig_3d, True, img_width, img_height)\n",
    "# fig_3d\n",
    "# img_lidar = show_lidar_on_image(pc_velo[:, :3], img, calib, img_width, img_height)\n",
    "# img_lidar = cv2.cvtColor(img_lidar, cv2.COLOR_BGR2RGB)\n",
    "\n",
    "# fig_lidar = plt.figure(figsize=(14, 7))\n",
    "# ax_lidar = fig_lidar.subplots()\n",
    "# ax_lidar.imshow(img_lidar)\n",
    "# plt.show()"
   ]
  },
  {
   "cell_type": "markdown",
   "metadata": {},
   "source": [
    "# Bird eye view"
   ]
  },
  {
   "cell_type": "code",
   "execution_count": 22,
   "metadata": {},
   "outputs": [],
   "source": [
    "# img_bev = show_lidar_topview_with_boxes(pc_velo, objects, calib)\n",
    "\n",
    "# fig_bev = plt.figure(figsize=(7, 14))\n",
    "# ax_bev = fig_bev.subplots()\n",
    "# ax_bev.imshow(img_bev)\n",
    "# plt.show()"
   ]
  },
  {
   "cell_type": "code",
   "execution_count": null,
   "metadata": {},
   "outputs": [],
   "source": []
  },
  {
   "cell_type": "code",
   "execution_count": null,
   "metadata": {},
   "outputs": [],
   "source": []
  },
  {
   "cell_type": "code",
   "execution_count": 12,
   "metadata": {},
   "outputs": [],
   "source": [
    "!"
   ]
  }
 ],
 "metadata": {
  "kernelspec": {
   "display_name": "Python 3",
   "language": "python",
   "name": "python3"
  },
  "language_info": {
   "codemirror_mode": {
    "name": "ipython",
    "version": 3
   },
   "file_extension": ".py",
   "mimetype": "text/x-python",
   "name": "python",
   "nbconvert_exporter": "python",
   "pygments_lexer": "ipython3",
   "version": "3.7.7"
  }
 },
 "nbformat": 4,
 "nbformat_minor": 4
}
